{
 "cells": [
  {
   "cell_type": "markdown",
   "metadata": {},
   "source": [
    "### A description of the problem and a discussion of the background."
   ]
  },
  {
   "cell_type": "markdown",
   "metadata": {},
   "source": [
    "The City of Charlotte has experienced a lot of growth in population, construction and business development in the recent years. In this paper I will perform segmentation analysis of the City of Charlotte, North Carolina for the purposes of understanding the composition of different venues near clusters of households with different characteristics. We'll examine clusters based on just two of several other possible metrics to gain better understanding of some of the charachteristics of the Queen city. "
   ]
  },
  {
   "cell_type": "markdown",
   "metadata": {},
   "source": [
    "### A description of the data and how it will be used to solve the problem."
   ]
  },
  {
   "cell_type": "markdown",
   "metadata": {},
   "source": [
    "For this project I will be using data provided by the City fo Charlotte. The webite where the data resides is located at  http://data.charlottenc.gov/. I will be using two data sets from there, namely the Census Population Block Groups and  The first set is the Census Population Block Groups and the Census Household Income Block Groups. The first set  has the Longitude and Latitude of each Census Block Group and the second set contains demographic and income data for each block. A Census Block Group is defined as the smallest geographical unit for which the US Census Bureau publishes data. Typically, there are 600 to 3000 households per block group, but as we'll see later on this is not always the case."
   ]
  }
 ],
 "metadata": {
  "kernelspec": {
   "display_name": "Python [default]",
   "language": "python",
   "name": "python3"
  },
  "language_info": {
   "codemirror_mode": {
    "name": "ipython",
    "version": 3
   },
   "file_extension": ".py",
   "mimetype": "text/x-python",
   "name": "python",
   "nbconvert_exporter": "python",
   "pygments_lexer": "ipython3",
   "version": "3.5.5"
  }
 },
 "nbformat": 4,
 "nbformat_minor": 2
}
