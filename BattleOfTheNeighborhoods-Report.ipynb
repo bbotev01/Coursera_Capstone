{
 "cells": [
  {
   "cell_type": "markdown",
   "metadata": {},
   "source": [
    "# Capstone Project - The Battle of the Neighborhoods\n",
    "\n",
    "### Applied Data Science Capstone by IBM/Coursera\n",
    "\n",
    "* **Name: Boyan Botev**\n",
    "\n",
    "* **Date: 4/24/2019**"
   ]
  },
  {
   "cell_type": "markdown",
   "metadata": {},
   "source": [
    "## Table of contents\n",
    "* [Introduction/Business Problem](#introduction)\n",
    "* [Data](#data)\n",
    "* [Methodology](#methodology)\n",
    "* [Analysis](#analysis)\n",
    "* [Results and Discussion](#results)\n",
    "* [Conclusion](#conclusion)"
   ]
  },
  {
   "cell_type": "markdown",
   "metadata": {},
   "source": [
    "## Introduction/Business Problem <a name=\"introduction\"></a>"
   ]
  },
  {
   "cell_type": "markdown",
   "metadata": {},
   "source": [
    "The City of Charlotte has experienced a lot of growth in population, construction and business development in the recent years. In this paper I will perform segmentation analysis of the City of Charlotte, North Carolina for the purposes of understanding the composition of different venues near clusters of households with different characteristics. We'll examine clusters based on just two of several other possible metrics to gain better understanding of some of the charachteristics of the Queen city. \n",
    "\n",
    "The target audience for this report would be a business trying to find a location to open or relocate to or even the city of Charlotte which could incentivize certain businesses to come to neighborhoods where they would not typically go on their own for the purposes of creating greater diversity. "
   ]
  },
  {
   "cell_type": "markdown",
   "metadata": {},
   "source": [
    "## Data <a name=\"data\"></a>"
   ]
  },
  {
   "cell_type": "markdown",
   "metadata": {},
   "source": [
    "For this project I will be using data provided by the City fo Charlotte. The webite where the data resides is located at  http://data.charlottenc.gov/. I will be using two data sets from there, namely the Census Population Block Groups and the Census Household Income Block Groups. The first set  has the Longitude and Latitude of each Census Block Group and the second set contains demographic and income data for each block. A Census Block Group is defined as the smallest geographical unit for which the US Census Bureau publishes data. Typically, there are 600 to 3000 households per block group, but as we'll see later on this is not always the case.\n",
    "\n",
    "In addition to the census location, demographic and income data described above, I will be collecting venues data using the Foursquare API and enriching the data set provided by the City of Charlotte. In this paper we'll mainly focus on the median income per Census Block Group, the population density per square mile and the venue category obtained by the Foursquare API."
   ]
  },
  {
   "cell_type": "markdown",
   "metadata": {},
   "source": [
    "#### Download the KML file showing the Census Block Groups and their locations from Charlotte Open Data portal:\n",
    "\n",
    "http://data.charlottenc.gov/datasets/1d6040c72a5e4fee91e8fa1f8d1c5cc3_11/data"
   ]
  },
  {
   "cell_type": "markdown",
   "metadata": {},
   "source": [
    "#### Download income data for each Census Block Group\n",
    "\n",
    "http://data.charlottenc.gov/datasets/census-household-income-block-groups"
   ]
  },
  {
   "cell_type": "markdown",
   "metadata": {},
   "source": [
    "### This is what the Census Blocks look like on a map"
   ]
  },
  {
   "cell_type": "markdown",
   "metadata": {},
   "source": [
    "![Charlotte Map](img/m1.png)"
   ]
  },
  {
   "cell_type": "markdown",
   "metadata": {},
   "source": [
    "### After Clustering by Median Household Income"
   ]
  },
  {
   "cell_type": "markdown",
   "metadata": {},
   "source": [
    "![Charlotte Map](img/m2.png)"
   ]
  },
  {
   "cell_type": "markdown",
   "metadata": {},
   "source": [
    "### And here we see the average for each cluster"
   ]
  },
  {
   "cell_type": "markdown",
   "metadata": {},
   "source": [
    "![Charlotte Map](img/income.png)"
   ]
  },
  {
   "cell_type": "markdown",
   "metadata": {},
   "source": [
    "### After Clustering by Population Density"
   ]
  },
  {
   "cell_type": "markdown",
   "metadata": {},
   "source": [
    "![Charlotte Map](img/m3.png)"
   ]
  },
  {
   "cell_type": "markdown",
   "metadata": {},
   "source": [
    "### And here we see the average for each cluster"
   ]
  },
  {
   "cell_type": "markdown",
   "metadata": {},
   "source": [
    "![Charlotte Map](img/density.png)"
   ]
  },
  {
   "cell_type": "markdown",
   "metadata": {},
   "source": [
    "## Methodology <a name=\"methodology\"></a>"
   ]
  },
  {
   "cell_type": "markdown",
   "metadata": {},
   "source": [
    "The first step of our methodology was to collect location, demographic, income and venues data for the City of Charlotte. We have collected and preprocessed the data as a first step. We'll segment the data set two different ways by Kmeans clustering. The first clustering method will be by Household Median income and the second will be based on population density per Census block i.e. population per square mile. Afterwards we'll use the clusters to create Wordclouds of the venues categories by cluster. This will show us what kind of venues are near each type of population area and help us gain better understanding about the City of Charlotte.  "
   ]
  },
  {
   "cell_type": "markdown",
   "metadata": {},
   "source": [
    "## Analysis <a name=\"analysis\"></a>"
   ]
  },
  {
   "cell_type": "markdown",
   "metadata": {},
   "source": [
    "### Income Clusters"
   ]
  },
  {
   "cell_type": "markdown",
   "metadata": {},
   "source": [
    "#### Income Cluster Label 0\n",
    "![Charlotte Map](img/m1c0.png)\n",
    "\n",
    "#### Income Cluster Label 1\n",
    "![Charlotte Map](img/m1c1.png)\n",
    "\n",
    "#### Income Cluster Label 2\n",
    "![Charlotte Map](img/m1c2.png)"
   ]
  },
  {
   "cell_type": "markdown",
   "metadata": {},
   "source": [
    "### Density Cluster Clusters"
   ]
  },
  {
   "cell_type": "markdown",
   "metadata": {},
   "source": [
    "#### Population Density Cluster Label 0\n",
    "![Charlotte Map](img/m2c0.png)\n",
    "\n",
    "#### Population Density Cluster Label 1\n",
    "![Charlotte Map](img/m2c1.png)\n",
    "\n",
    "#### Population Density Cluster Label 2\n",
    "![Charlotte Map](img/m2c2.png)"
   ]
  },
  {
   "cell_type": "markdown",
   "metadata": {},
   "source": [
    "## Results <a name=\"results\"></a>"
   ]
  },
  {
   "cell_type": "markdown",
   "metadata": {},
   "source": [
    "We were able to segment the City of Charlotte into 3 clusters by income and population density. We observe the following trends based on each clustering method:\n",
    "\n",
    "**Income Clusters**\n",
    "\n",
    "1. Cluster Label 0 - Households with average income of 80,000. This is probably what we may call \"Middle Income\". We see that the venues near this group feature American and other Restaurants, Shopping, Stores, Coffee shops, Bar, Parks, Pools and Gyms.\n",
    "\n",
    "\n",
    "2. Cluster Label 1 - Households with average income of above 140,000. We'll call this group \"Upper Income\". We see that the venues near this cluster group feature similar venues as Cluster 1, but we also see that we have Gold Courses near those households\n",
    "\n",
    "\n",
    "3. Cluster Label 2 - Household with average income of 40,000. We'll call this group \"Lower Income\". We see that Restaurants are still prominent, but American Restaurants are not as popular there. We see a lot of Convenience stores, Shopping and Parks, but also Fast Food places. \n",
    "\n",
    "\n",
    "\n",
    "**Population Density Clusters**\n",
    "\n",
    "1. Cluster Label 0 - Medium Population Density with an average of around 4,000 per square mile. We see a very strong trend for Shops, Stores and Pizza Places and fewer other venues comparitively.\n",
    "\n",
    "\n",
    "2. Cluster Label 1 - Low Population Density with an average of less than 2,000 per square mile. There is a better mix of venues in this cluster featuring Restaurants, Shopping, Hotels, Sandwitch Places, Fast Food and Parks.\n",
    "\n",
    "\n",
    "3. Cluster Label 2 - High Population Density with an average of close to 13,000 per square mile. This group features a lot more venues which we have not seen previously like Performing Arts, Theatre, Soul food, Arts Venue in addition to what we have learned to expect i.e. Restaurants and Shops. \n"
   ]
  },
  {
   "cell_type": "markdown",
   "metadata": {},
   "source": [
    "## Conclusion <a name=\"conclusion\"></a>"
   ]
  },
  {
   "cell_type": "markdown",
   "metadata": {},
   "source": [
    "Our investigation in the City of Charlotte revealed some interesting, but probably expected results. We can find American Restaurants almost anywhere in the city. Other Restaurants and Shopping is also easy to come by. We find more Fast Food places and Convenience Stores compared to other venues in lower income areas of the city. We also do see the highest variety of venues and entertainment in the very high population density areas of the city i.e. downtown. \n",
    "\n",
    "This notebook shows just 2 of the clustering methods, but many more are possible with the available information."
   ]
  }
 ],
 "metadata": {
  "kernelspec": {
   "display_name": "Python [default]",
   "language": "python",
   "name": "python3"
  },
  "language_info": {
   "codemirror_mode": {
    "name": "ipython",
    "version": 3
   },
   "file_extension": ".py",
   "mimetype": "text/x-python",
   "name": "python",
   "nbconvert_exporter": "python",
   "pygments_lexer": "ipython3",
   "version": "3.5.5"
  }
 },
 "nbformat": 4,
 "nbformat_minor": 2
}
